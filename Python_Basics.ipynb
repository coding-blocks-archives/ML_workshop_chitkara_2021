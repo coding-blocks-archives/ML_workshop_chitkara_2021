{
  "nbformat": 4,
  "nbformat_minor": 0,
  "metadata": {
    "colab": {
      "name": "Python Basics",
      "provenance": []
    },
    "kernelspec": {
      "name": "python3",
      "display_name": "Python 3"
    }
  },
  "cells": [
    {
      "cell_type": "code",
      "metadata": {
        "colab": {
          "base_uri": "https://localhost:8080/"
        },
        "id": "M1w9CfuAzlWk",
        "outputId": "d701885e-0d19-4ce3-b08f-7f08df91a673"
      },
      "source": [
        "# Shift + enter\n",
        "print(\"Hello Python..!\")"
      ],
      "execution_count": 2,
      "outputs": [
        {
          "output_type": "stream",
          "text": [
            "Hello Python..!\n"
          ],
          "name": "stdout"
        }
      ]
    },
    {
      "cell_type": "code",
      "metadata": {
        "id": "CuPg953f0lX4"
      },
      "source": [
        "a = 10"
      ],
      "execution_count": 3,
      "outputs": []
    },
    {
      "cell_type": "code",
      "metadata": {
        "colab": {
          "base_uri": "https://localhost:8080/"
        },
        "id": "D3ahVEfq0w9x",
        "outputId": "ae3d6eee-3580-40fb-fee4-a0f367082d9f"
      },
      "source": [
        "print(a)"
      ],
      "execution_count": 6,
      "outputs": [
        {
          "output_type": "stream",
          "text": [
            "10\n"
          ],
          "name": "stdout"
        }
      ]
    },
    {
      "cell_type": "code",
      "metadata": {
        "colab": {
          "base_uri": "https://localhost:8080/"
        },
        "id": "CrtguM3903c5",
        "outputId": "91f5ccf5-37ca-46c3-ac27-8e6f8cd42ee4"
      },
      "source": [
        "type(a)"
      ],
      "execution_count": 7,
      "outputs": [
        {
          "output_type": "execute_result",
          "data": {
            "text/plain": [
              "int"
            ]
          },
          "metadata": {
            "tags": []
          },
          "execution_count": 7
        }
      ]
    },
    {
      "cell_type": "code",
      "metadata": {
        "id": "3JPNsCJv1Bw9"
      },
      "source": [
        "a = \"python\""
      ],
      "execution_count": 8,
      "outputs": []
    },
    {
      "cell_type": "code",
      "metadata": {
        "colab": {
          "base_uri": "https://localhost:8080/"
        },
        "id": "OjiTZn_a1IAC",
        "outputId": "f5ddfb8a-4edb-4c2c-adc8-f875d6f8d83a"
      },
      "source": [
        "print(a)"
      ],
      "execution_count": 9,
      "outputs": [
        {
          "output_type": "stream",
          "text": [
            "python\n"
          ],
          "name": "stdout"
        }
      ]
    },
    {
      "cell_type": "code",
      "metadata": {
        "colab": {
          "base_uri": "https://localhost:8080/"
        },
        "id": "4NVI0B411LQO",
        "outputId": "3b1d49e4-416e-4a92-b702-6600b0c3c047"
      },
      "source": [
        "type(a)"
      ],
      "execution_count": 10,
      "outputs": [
        {
          "output_type": "execute_result",
          "data": {
            "text/plain": [
              "str"
            ]
          },
          "metadata": {
            "tags": []
          },
          "execution_count": 10
        }
      ]
    },
    {
      "cell_type": "code",
      "metadata": {
        "colab": {
          "base_uri": "https://localhost:8080/"
        },
        "id": "LKkXpm1n1MTF",
        "outputId": "4df47991-3474-4c39-bc05-fd0dd7e947ca"
      },
      "source": [
        "age = 23\n",
        "\n",
        "if (age>=18):\n",
        "    print(\"You can vote.\")\n",
        "    print(\"I am inside if\")\n",
        "else:\n",
        "    print(\"Go home kid\")\n",
        "    print(\"I'm inside else\")"
      ],
      "execution_count": 20,
      "outputs": [
        {
          "output_type": "stream",
          "text": [
            "You can vote.\n",
            "I am inside if\n"
          ],
          "name": "stdout"
        }
      ]
    },
    {
      "cell_type": "code",
      "metadata": {
        "colab": {
          "base_uri": "https://localhost:8080/"
        },
        "id": "f6_vdq_f196h",
        "outputId": "aa737113-45f0-4b37-e380-583b583bc6a0"
      },
      "source": [
        "i = 1\n",
        "while (i<=10):\n",
        "    if(i%2==0):\n",
        "        print(i, end=\", \")\n",
        "    i+=1"
      ],
      "execution_count": 24,
      "outputs": [
        {
          "output_type": "stream",
          "text": [
            "2, 4, 6, 8, 10, "
          ],
          "name": "stdout"
        }
      ]
    },
    {
      "cell_type": "code",
      "metadata": {
        "colab": {
          "base_uri": "https://localhost:8080/"
        },
        "id": "lebmt1VC3ST9",
        "outputId": "57621b0b-82ec-4790-efd1-51d5806e44ba"
      },
      "source": [
        "for k in range(1, 11, 2):\n",
        "    print(k, end= \" \")"
      ],
      "execution_count": 28,
      "outputs": [
        {
          "output_type": "stream",
          "text": [
            "1 3 5 7 9 "
          ],
          "name": "stdout"
        }
      ]
    },
    {
      "cell_type": "code",
      "metadata": {
        "id": "DvEhjx2h3-xF"
      },
      "source": [
        "s = \"Hello World\""
      ],
      "execution_count": 29,
      "outputs": []
    },
    {
      "cell_type": "code",
      "metadata": {
        "colab": {
          "base_uri": "https://localhost:8080/",
          "height": 36
        },
        "id": "g_9_IadX5DHy",
        "outputId": "2a388742-4720-49ca-c53d-17c1aea2d369"
      },
      "source": [
        "s * 4"
      ],
      "execution_count": 31,
      "outputs": [
        {
          "output_type": "execute_result",
          "data": {
            "application/vnd.google.colaboratory.intrinsic+json": {
              "type": "string"
            },
            "text/plain": [
              "'Hello WorldHello WorldHello WorldHello World'"
            ]
          },
          "metadata": {
            "tags": []
          },
          "execution_count": 31
        }
      ]
    },
    {
      "cell_type": "code",
      "metadata": {
        "id": "LdRW1XF55Fjr"
      },
      "source": [
        "# n = 5\n",
        "\n",
        "# *\n",
        "# **\n",
        "# ***\n",
        "# ****\n",
        "# *****\n",
        "\n",
        "\n",
        "    *\n",
        "   ***\n",
        "  *****\n",
        " *******\n",
        " \n"
      ],
      "execution_count": 33,
      "outputs": []
    },
    {
      "cell_type": "code",
      "metadata": {
        "colab": {
          "base_uri": "https://localhost:8080/"
        },
        "id": "8q-s0sU-5PKJ",
        "outputId": "d8096066-2d49-43d0-b0ff-e7e2e2f0ff87"
      },
      "source": [
        "n = 5\n",
        "for i in range(1, n+1):\n",
        "    print(\"*\"*i)"
      ],
      "execution_count": 35,
      "outputs": [
        {
          "output_type": "stream",
          "text": [
            "*\n",
            "**\n",
            "***\n",
            "****\n",
            "*****\n"
          ],
          "name": "stdout"
        }
      ]
    },
    {
      "cell_type": "code",
      "metadata": {
        "colab": {
          "base_uri": "https://localhost:8080/"
        },
        "id": "vqP1PC8R6Uzj",
        "outputId": "a6a89fd3-3f82-4b19-839d-bc1227d3e116"
      },
      "source": [
        "for i in range(1, n+1):\n",
        "    print(\" \"*(n-i) +  \"*\"*(2*i - 1))"
      ],
      "execution_count": 36,
      "outputs": [
        {
          "output_type": "stream",
          "text": [
            "    *\n",
            "   ***\n",
            "  *****\n",
            " *******\n",
            "*********\n"
          ],
          "name": "stdout"
        }
      ]
    },
    {
      "cell_type": "markdown",
      "metadata": {
        "id": "imp_qbtt7Yz7"
      },
      "source": [
        "# Data Structures\n",
        "- list\n",
        "- tuple\n",
        "- set\n",
        "- dictionary"
      ]
    },
    {
      "cell_type": "code",
      "metadata": {
        "id": "EGp6d7aW7YPX"
      },
      "source": [
        "lst = [8, 9, 5, 3, 2, 1, 33]"
      ],
      "execution_count": 37,
      "outputs": []
    },
    {
      "cell_type": "code",
      "metadata": {
        "colab": {
          "base_uri": "https://localhost:8080/"
        },
        "id": "dOiom9w17YM8",
        "outputId": "4ba0f9df-a1cf-4022-8124-bd44c0af4a6e"
      },
      "source": [
        "print(lst)"
      ],
      "execution_count": 38,
      "outputs": [
        {
          "output_type": "stream",
          "text": [
            "[8, 9, 5, 3, 2, 1, 33]\n"
          ],
          "name": "stdout"
        }
      ]
    },
    {
      "cell_type": "code",
      "metadata": {
        "colab": {
          "base_uri": "https://localhost:8080/"
        },
        "id": "ws8aPzkE7YKl",
        "outputId": "49f28862-2f4d-4229-98b4-3f646b6a764d"
      },
      "source": [
        "type(lst)"
      ],
      "execution_count": 39,
      "outputs": [
        {
          "output_type": "execute_result",
          "data": {
            "text/plain": [
              "list"
            ]
          },
          "metadata": {
            "tags": []
          },
          "execution_count": 39
        }
      ]
    },
    {
      "cell_type": "code",
      "metadata": {
        "colab": {
          "base_uri": "https://localhost:8080/"
        },
        "id": "QKbKK3m_7YIP",
        "outputId": "9fe6fa1a-1334-4c4f-f451-97b608addb1c"
      },
      "source": [
        "print(lst[0])\n",
        "print(lst[6])\n",
        "print(lst[-1]) # negative indexing"
      ],
      "execution_count": 42,
      "outputs": [
        {
          "output_type": "stream",
          "text": [
            "8\n",
            "33\n",
            "33\n"
          ],
          "name": "stdout"
        }
      ]
    },
    {
      "cell_type": "code",
      "metadata": {
        "colab": {
          "base_uri": "https://localhost:8080/"
        },
        "id": "5w1Bt7WZ7YFo",
        "outputId": "588e4099-1fd3-426f-8558-1835502165a2"
      },
      "source": [
        "len(lst)"
      ],
      "execution_count": 45,
      "outputs": [
        {
          "output_type": "execute_result",
          "data": {
            "text/plain": [
              "7"
            ]
          },
          "metadata": {
            "tags": []
          },
          "execution_count": 45
        }
      ]
    },
    {
      "cell_type": "code",
      "metadata": {
        "colab": {
          "base_uri": "https://localhost:8080/"
        },
        "id": "J-rphN4O7X6a",
        "outputId": "e0f2ee70-1ecf-4b11-ad21-de5e4b4bd3f0"
      },
      "source": [
        "print(lst)"
      ],
      "execution_count": 46,
      "outputs": [
        {
          "output_type": "stream",
          "text": [
            "[8, 9, 5, 3, 2, 1, 33]\n"
          ],
          "name": "stdout"
        }
      ]
    },
    {
      "cell_type": "code",
      "metadata": {
        "colab": {
          "base_uri": "https://localhost:8080/"
        },
        "id": "RfYHjZ8W7XmO",
        "outputId": "5e9cfe29-7b5e-4978-ad7f-68f8126790a2"
      },
      "source": [
        "# list slicing\n",
        "# lst[start_idx :  end_idx + 1]\n",
        "\n",
        "print( lst[2:6] )\n",
        "print( lst[:] )\n",
        "print( lst[:-2] )"
      ],
      "execution_count": 51,
      "outputs": [
        {
          "output_type": "stream",
          "text": [
            "[5, 3, 2, 1]\n",
            "[8, 9, 5, 3, 2, 1, 33]\n",
            "[8, 9, 5, 3, 2]\n"
          ],
          "name": "stdout"
        }
      ]
    },
    {
      "cell_type": "code",
      "metadata": {
        "colab": {
          "base_uri": "https://localhost:8080/"
        },
        "id": "aDbDMX427Xgb",
        "outputId": "4cd61629-31e6-4dd9-e5bc-c539c84ccb0c"
      },
      "source": [
        "print( lst )"
      ],
      "execution_count": 52,
      "outputs": [
        {
          "output_type": "stream",
          "text": [
            "[8, 9, 5, 3, 2, 1, 33]\n"
          ],
          "name": "stdout"
        }
      ]
    },
    {
      "cell_type": "code",
      "metadata": {
        "id": "TJ5INomP7XZ6"
      },
      "source": [
        "lst[0] = 80"
      ],
      "execution_count": 53,
      "outputs": []
    },
    {
      "cell_type": "code",
      "metadata": {
        "colab": {
          "base_uri": "https://localhost:8080/"
        },
        "id": "FKiI4K987XU7",
        "outputId": "4d0a8c35-1eef-488a-d66b-549a781ac12f"
      },
      "source": [
        "print(lst)"
      ],
      "execution_count": 54,
      "outputs": [
        {
          "output_type": "stream",
          "text": [
            "[80, 9, 5, 3, 2, 1, 33]\n"
          ],
          "name": "stdout"
        }
      ]
    },
    {
      "cell_type": "code",
      "metadata": {
        "id": "EW4zJNjB7XRz"
      },
      "source": [
        "lst.append(99)"
      ],
      "execution_count": 55,
      "outputs": []
    },
    {
      "cell_type": "code",
      "metadata": {
        "colab": {
          "base_uri": "https://localhost:8080/"
        },
        "id": "aOghifjJ7XPQ",
        "outputId": "73940506-a295-4c72-c7b9-dd3849dd1383"
      },
      "source": [
        "print(lst)"
      ],
      "execution_count": 56,
      "outputs": [
        {
          "output_type": "stream",
          "text": [
            "[80, 9, 5, 3, 2, 1, 33, 99]\n"
          ],
          "name": "stdout"
        }
      ]
    },
    {
      "cell_type": "code",
      "metadata": {
        "colab": {
          "base_uri": "https://localhost:8080/"
        },
        "id": "vbXtgaUY7XMl",
        "outputId": "835389b5-9dd3-4f39-e4e7-7345a27d54c2"
      },
      "source": [
        "lst.pop()"
      ],
      "execution_count": 57,
      "outputs": [
        {
          "output_type": "execute_result",
          "data": {
            "text/plain": [
              "99"
            ]
          },
          "metadata": {
            "tags": []
          },
          "execution_count": 57
        }
      ]
    },
    {
      "cell_type": "code",
      "metadata": {
        "colab": {
          "base_uri": "https://localhost:8080/"
        },
        "id": "WCY36ULx7XKO",
        "outputId": "a860502e-7b54-4851-8e32-5de5a6f206ff"
      },
      "source": [
        "print(lst)"
      ],
      "execution_count": 58,
      "outputs": [
        {
          "output_type": "stream",
          "text": [
            "[80, 9, 5, 3, 2, 1, 33]\n"
          ],
          "name": "stdout"
        }
      ]
    },
    {
      "cell_type": "code",
      "metadata": {
        "id": "5G2Fhuxi7XHW"
      },
      "source": [
        "lst.insert?"
      ],
      "execution_count": 59,
      "outputs": []
    },
    {
      "cell_type": "code",
      "metadata": {
        "id": "mkvEQPJO7W7V"
      },
      "source": [
        "lst.insert(1, 90)"
      ],
      "execution_count": 60,
      "outputs": []
    },
    {
      "cell_type": "code",
      "metadata": {
        "colab": {
          "base_uri": "https://localhost:8080/"
        },
        "id": "zpT7U6Ny7IFJ",
        "outputId": "a5703cb9-c9a8-4f9e-8373-baa2d85ae33d"
      },
      "source": [
        "print( lst )"
      ],
      "execution_count": 61,
      "outputs": [
        {
          "output_type": "stream",
          "text": [
            "[80, 90, 9, 5, 3, 2, 1, 33]\n"
          ],
          "name": "stdout"
        }
      ]
    },
    {
      "cell_type": "code",
      "metadata": {
        "id": "FT-xHMBu-_Tw"
      },
      "source": [
        "lst.sort()"
      ],
      "execution_count": 62,
      "outputs": []
    },
    {
      "cell_type": "code",
      "metadata": {
        "colab": {
          "base_uri": "https://localhost:8080/"
        },
        "id": "--JVSgHO_Pyc",
        "outputId": "6fa06f01-ad8c-4c64-f4d5-a71d60f13bb3"
      },
      "source": [
        "print(lst)"
      ],
      "execution_count": 63,
      "outputs": [
        {
          "output_type": "stream",
          "text": [
            "[1, 2, 3, 5, 9, 33, 80, 90]\n"
          ],
          "name": "stdout"
        }
      ]
    },
    {
      "cell_type": "code",
      "metadata": {
        "id": "_vbj831j_SYu"
      },
      "source": [
        "lst.sort(reverse=True)"
      ],
      "execution_count": 65,
      "outputs": []
    },
    {
      "cell_type": "code",
      "metadata": {
        "colab": {
          "base_uri": "https://localhost:8080/"
        },
        "id": "2hgn5T6U_VcB",
        "outputId": "2515f0b8-06ef-4191-d9f3-bb01ada54ec7"
      },
      "source": [
        "print( lst)"
      ],
      "execution_count": 66,
      "outputs": [
        {
          "output_type": "stream",
          "text": [
            "[90, 80, 33, 9, 5, 3, 2, 1]\n"
          ],
          "name": "stdout"
        }
      ]
    },
    {
      "cell_type": "code",
      "metadata": {
        "id": "ZCwH18y5_cCd"
      },
      "source": [
        "my_lst = [9, \"Hello\", 8.8, [3,2,1], 100, True]"
      ],
      "execution_count": 67,
      "outputs": []
    },
    {
      "cell_type": "code",
      "metadata": {
        "colab": {
          "base_uri": "https://localhost:8080/"
        },
        "id": "ml7LDblo_7sQ",
        "outputId": "d4e621aa-1c5a-4e34-e234-b9ae507d6057"
      },
      "source": [
        "type(my_lst)"
      ],
      "execution_count": 68,
      "outputs": [
        {
          "output_type": "execute_result",
          "data": {
            "text/plain": [
              "list"
            ]
          },
          "metadata": {
            "tags": []
          },
          "execution_count": 68
        }
      ]
    },
    {
      "cell_type": "code",
      "metadata": {
        "colab": {
          "base_uri": "https://localhost:8080/"
        },
        "id": "tQKM1ysw__v3",
        "outputId": "bc1c0564-efd2-442c-81fa-865d15a9a5bb"
      },
      "source": [
        "len(my_lst)"
      ],
      "execution_count": 69,
      "outputs": [
        {
          "output_type": "execute_result",
          "data": {
            "text/plain": [
              "6"
            ]
          },
          "metadata": {
            "tags": []
          },
          "execution_count": 69
        }
      ]
    },
    {
      "cell_type": "code",
      "metadata": {
        "colab": {
          "base_uri": "https://localhost:8080/"
        },
        "id": "bn2nGahYAFnu",
        "outputId": "d1ce2cd1-f6e0-42cc-e268-61b321c4f09b"
      },
      "source": [
        "print(my_lst[3][2])"
      ],
      "execution_count": 72,
      "outputs": [
        {
          "output_type": "stream",
          "text": [
            "1\n"
          ],
          "name": "stdout"
        }
      ]
    },
    {
      "cell_type": "code",
      "metadata": {
        "id": "aZjgIjJrATbj"
      },
      "source": [
        "tup  = (5,7,3,1,10)"
      ],
      "execution_count": 73,
      "outputs": []
    },
    {
      "cell_type": "code",
      "metadata": {
        "colab": {
          "base_uri": "https://localhost:8080/"
        },
        "id": "397nWjXRBGQR",
        "outputId": "8334acbe-9cd7-4af2-f324-97e035318669"
      },
      "source": [
        "print(type(tup))"
      ],
      "execution_count": 74,
      "outputs": [
        {
          "output_type": "stream",
          "text": [
            "<class 'tuple'>\n"
          ],
          "name": "stdout"
        }
      ]
    },
    {
      "cell_type": "code",
      "metadata": {
        "colab": {
          "base_uri": "https://localhost:8080/"
        },
        "id": "VumUo-7XBH7-",
        "outputId": "feccabc0-5eac-4f06-cb61-7fea564ad7a1"
      },
      "source": [
        "print(tup[0])"
      ],
      "execution_count": 75,
      "outputs": [
        {
          "output_type": "stream",
          "text": [
            "5\n"
          ],
          "name": "stdout"
        }
      ]
    },
    {
      "cell_type": "code",
      "metadata": {
        "colab": {
          "base_uri": "https://localhost:8080/"
        },
        "id": "03DZuJTiBLnf",
        "outputId": "f728710c-4cec-48e1-d117-c8c1304bfda2"
      },
      "source": [
        "tup"
      ],
      "execution_count": 76,
      "outputs": [
        {
          "output_type": "execute_result",
          "data": {
            "text/plain": [
              "(5, 7, 3, 1, 10)"
            ]
          },
          "metadata": {
            "tags": []
          },
          "execution_count": 76
        }
      ]
    },
    {
      "cell_type": "code",
      "metadata": {
        "colab": {
          "base_uri": "https://localhost:8080/",
          "height": 165
        },
        "id": "9_ydraYPBTiO",
        "outputId": "297ff397-e48c-40e7-ac44-153b52e285d9"
      },
      "source": [
        "tup[0] = 50"
      ],
      "execution_count": 77,
      "outputs": [
        {
          "output_type": "error",
          "ename": "TypeError",
          "evalue": "ignored",
          "traceback": [
            "\u001b[0;31m---------------------------------------------------------------------------\u001b[0m",
            "\u001b[0;31mTypeError\u001b[0m                                 Traceback (most recent call last)",
            "\u001b[0;32m<ipython-input-77-13a3ee0d20e3>\u001b[0m in \u001b[0;36m<module>\u001b[0;34m()\u001b[0m\n\u001b[0;32m----> 1\u001b[0;31m \u001b[0mtup\u001b[0m\u001b[0;34m[\u001b[0m\u001b[0;36m0\u001b[0m\u001b[0;34m]\u001b[0m \u001b[0;34m=\u001b[0m \u001b[0;36m50\u001b[0m\u001b[0;34m\u001b[0m\u001b[0;34m\u001b[0m\u001b[0m\n\u001b[0m",
            "\u001b[0;31mTypeError\u001b[0m: 'tuple' object does not support item assignment"
          ]
        }
      ]
    },
    {
      "cell_type": "code",
      "metadata": {
        "id": "76pDeX_dBVUj"
      },
      "source": [
        "my_set = {1,1,1,4,2,6,3,9,2,6,5}"
      ],
      "execution_count": 78,
      "outputs": []
    },
    {
      "cell_type": "code",
      "metadata": {
        "colab": {
          "base_uri": "https://localhost:8080/"
        },
        "id": "wX8Ai5XlCD3r",
        "outputId": "e9d0bbb2-03d3-4688-bc84-2d1a9a8e5fa2"
      },
      "source": [
        "type(my_set)"
      ],
      "execution_count": 79,
      "outputs": [
        {
          "output_type": "execute_result",
          "data": {
            "text/plain": [
              "set"
            ]
          },
          "metadata": {
            "tags": []
          },
          "execution_count": 79
        }
      ]
    },
    {
      "cell_type": "code",
      "metadata": {
        "colab": {
          "base_uri": "https://localhost:8080/"
        },
        "id": "diE-0PkhCFzo",
        "outputId": "5c29e78c-bb14-41a4-d243-a7f07b6f5509"
      },
      "source": [
        "print(my_set)"
      ],
      "execution_count": 80,
      "outputs": [
        {
          "output_type": "stream",
          "text": [
            "{1, 2, 3, 4, 5, 6, 9}\n"
          ],
          "name": "stdout"
        }
      ]
    },
    {
      "cell_type": "code",
      "metadata": {
        "colab": {
          "base_uri": "https://localhost:8080/",
          "height": 165
        },
        "id": "5eR8VZSFCJDk",
        "outputId": "17aa8a2a-b7d4-4f3b-b668-3fce89e8da66"
      },
      "source": [
        "my_set[0]"
      ],
      "execution_count": 81,
      "outputs": [
        {
          "output_type": "error",
          "ename": "TypeError",
          "evalue": "ignored",
          "traceback": [
            "\u001b[0;31m---------------------------------------------------------------------------\u001b[0m",
            "\u001b[0;31mTypeError\u001b[0m                                 Traceback (most recent call last)",
            "\u001b[0;32m<ipython-input-81-158c424478a1>\u001b[0m in \u001b[0;36m<module>\u001b[0;34m()\u001b[0m\n\u001b[0;32m----> 1\u001b[0;31m \u001b[0mmy_set\u001b[0m\u001b[0;34m[\u001b[0m\u001b[0;36m0\u001b[0m\u001b[0;34m]\u001b[0m\u001b[0;34m\u001b[0m\u001b[0;34m\u001b[0m\u001b[0m\n\u001b[0m",
            "\u001b[0;31mTypeError\u001b[0m: 'set' object is not subscriptable"
          ]
        }
      ]
    },
    {
      "cell_type": "code",
      "metadata": {
        "id": "v3pSGJCLCOzX"
      },
      "source": [
        "arr = [1,2,4,2,6,8,6,9,0,1,2,5,7,8,9, 3,4]"
      ],
      "execution_count": 82,
      "outputs": []
    },
    {
      "cell_type": "code",
      "metadata": {
        "colab": {
          "base_uri": "https://localhost:8080/"
        },
        "id": "CloCPEriCiKP",
        "outputId": "b138b9ac-6fcc-47fe-dd66-9d81520d323c"
      },
      "source": [
        "list(set(arr))"
      ],
      "execution_count": 84,
      "outputs": [
        {
          "output_type": "execute_result",
          "data": {
            "text/plain": [
              "[0, 1, 2, 3, 4, 5, 6, 7, 8, 9]"
            ]
          },
          "metadata": {
            "tags": []
          },
          "execution_count": 84
        }
      ]
    },
    {
      "cell_type": "code",
      "metadata": {
        "id": "OJLQLzk7Ckzp"
      },
      "source": [
        "user_info = {\n",
        "    \"name\" : \"Mohit\",\n",
        "    \"age\" : 21,\n",
        "    \"nationality\" : \"Indian\"\n",
        "}"
      ],
      "execution_count": 85,
      "outputs": []
    },
    {
      "cell_type": "code",
      "metadata": {
        "colab": {
          "base_uri": "https://localhost:8080/"
        },
        "id": "rtJ0tX5LDTYN",
        "outputId": "d8899e1b-c1cc-429e-bd3b-eb204877cd5e"
      },
      "source": [
        "type(user_info)"
      ],
      "execution_count": 86,
      "outputs": [
        {
          "output_type": "execute_result",
          "data": {
            "text/plain": [
              "dict"
            ]
          },
          "metadata": {
            "tags": []
          },
          "execution_count": 86
        }
      ]
    },
    {
      "cell_type": "code",
      "metadata": {
        "colab": {
          "base_uri": "https://localhost:8080/"
        },
        "id": "zu1-VgyNDVDL",
        "outputId": "6730581a-27d2-4dcd-f04b-c58367a386c4"
      },
      "source": [
        "print(user_info)"
      ],
      "execution_count": 87,
      "outputs": [
        {
          "output_type": "stream",
          "text": [
            "{'name': 'Mohit', 'age': 21, 'nationality': 'Indian'}\n"
          ],
          "name": "stdout"
        }
      ]
    },
    {
      "cell_type": "code",
      "metadata": {
        "colab": {
          "base_uri": "https://localhost:8080/",
          "height": 36
        },
        "id": "wsho2BmcDYHa",
        "outputId": "3ee556db-8585-4c3c-b9f7-1be1a42624d3"
      },
      "source": [
        "user_info['nationality']"
      ],
      "execution_count": 89,
      "outputs": [
        {
          "output_type": "execute_result",
          "data": {
            "application/vnd.google.colaboratory.intrinsic+json": {
              "type": "string"
            },
            "text/plain": [
              "'Indian'"
            ]
          },
          "metadata": {
            "tags": []
          },
          "execution_count": 89
        }
      ]
    },
    {
      "cell_type": "code",
      "metadata": {
        "id": "5h0nH7NWDe5U"
      },
      "source": [
        "user_info['age'] = 25"
      ],
      "execution_count": 91,
      "outputs": []
    },
    {
      "cell_type": "code",
      "metadata": {
        "colab": {
          "base_uri": "https://localhost:8080/"
        },
        "id": "1gIe84JhDkls",
        "outputId": "e89e3541-3bf0-4482-bd69-878b362a7604"
      },
      "source": [
        "user_info"
      ],
      "execution_count": 92,
      "outputs": [
        {
          "output_type": "execute_result",
          "data": {
            "text/plain": [
              "{'age': 25, 'name': 'Mohit', 'nationality': 'Indian'}"
            ]
          },
          "metadata": {
            "tags": []
          },
          "execution_count": 92
        }
      ]
    },
    {
      "cell_type": "code",
      "metadata": {
        "id": "srRypaZdDn52"
      },
      "source": [
        ""
      ],
      "execution_count": null,
      "outputs": []
    }
  ]
}