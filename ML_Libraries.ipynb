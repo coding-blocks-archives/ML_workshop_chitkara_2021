{
  "nbformat": 4,
  "nbformat_minor": 0,
  "metadata": {
    "colab": {
      "name": "ML Libraries",
      "provenance": []
    },
    "kernelspec": {
      "name": "python3",
      "display_name": "Python 3"
    }
  },
  "cells": [
    {
      "cell_type": "markdown",
      "metadata": {
        "id": "ec_zgLf2F6yh"
      },
      "source": [
        "# Numpy"
      ]
    },
    {
      "cell_type": "code",
      "metadata": {
        "id": "kEoK_6wrE-tT"
      },
      "source": [
        "import numpy as np"
      ],
      "execution_count": 1,
      "outputs": []
    },
    {
      "cell_type": "code",
      "metadata": {
        "id": "6NFW7ebrGuVa"
      },
      "source": [
        "ar = np.array([1,2,3,4,5])"
      ],
      "execution_count": 2,
      "outputs": []
    },
    {
      "cell_type": "code",
      "metadata": {
        "colab": {
          "base_uri": "https://localhost:8080/"
        },
        "id": "cNdyR60NHEXS",
        "outputId": "26e53dec-3a9c-4b60-bb46-8526bfaf00ba"
      },
      "source": [
        "ar"
      ],
      "execution_count": 3,
      "outputs": [
        {
          "output_type": "execute_result",
          "data": {
            "text/plain": [
              "array([1, 2, 3, 4, 5])"
            ]
          },
          "metadata": {
            "tags": []
          },
          "execution_count": 3
        }
      ]
    },
    {
      "cell_type": "code",
      "metadata": {
        "colab": {
          "base_uri": "https://localhost:8080/"
        },
        "id": "bWM9syMCHIEp",
        "outputId": "b588eaa7-2cc7-4e50-b77b-070974d1c868"
      },
      "source": [
        "type(ar)"
      ],
      "execution_count": 4,
      "outputs": [
        {
          "output_type": "execute_result",
          "data": {
            "text/plain": [
              "numpy.ndarray"
            ]
          },
          "metadata": {
            "tags": []
          },
          "execution_count": 4
        }
      ]
    },
    {
      "cell_type": "code",
      "metadata": {
        "colab": {
          "base_uri": "https://localhost:8080/"
        },
        "id": "S0ewFJsJHKz2",
        "outputId": "29bb29b7-1d25-4090-86f4-1e7ba237559e"
      },
      "source": [
        "ar[0]"
      ],
      "execution_count": 5,
      "outputs": [
        {
          "output_type": "execute_result",
          "data": {
            "text/plain": [
              "1"
            ]
          },
          "metadata": {
            "tags": []
          },
          "execution_count": 5
        }
      ]
    },
    {
      "cell_type": "code",
      "metadata": {
        "colab": {
          "base_uri": "https://localhost:8080/"
        },
        "id": "7sDSgq8bHRD1",
        "outputId": "438a1a23-a481-4e5e-be19-3afb40f1c15f"
      },
      "source": [
        "ar[-1]"
      ],
      "execution_count": 6,
      "outputs": [
        {
          "output_type": "execute_result",
          "data": {
            "text/plain": [
              "5"
            ]
          },
          "metadata": {
            "tags": []
          },
          "execution_count": 6
        }
      ]
    },
    {
      "cell_type": "code",
      "metadata": {
        "colab": {
          "base_uri": "https://localhost:8080/"
        },
        "id": "FZ1e-sYQHS1n",
        "outputId": "37341842-da31-4855-d937-3f25f5863c28"
      },
      "source": [
        "ar.shape"
      ],
      "execution_count": 7,
      "outputs": [
        {
          "output_type": "execute_result",
          "data": {
            "text/plain": [
              "(5,)"
            ]
          },
          "metadata": {
            "tags": []
          },
          "execution_count": 7
        }
      ]
    },
    {
      "cell_type": "code",
      "metadata": {
        "id": "QvP6QYsAHZBK"
      },
      "source": [
        "arr_rand = np.random.randint(10, 100, size= (5,5) )"
      ],
      "execution_count": 11,
      "outputs": []
    },
    {
      "cell_type": "code",
      "metadata": {
        "colab": {
          "base_uri": "https://localhost:8080/"
        },
        "id": "qTQzTfbhHovq",
        "outputId": "c0a2d67c-f253-48bf-8ecb-9f6f94285ab5"
      },
      "source": [
        "arr_rand"
      ],
      "execution_count": 12,
      "outputs": [
        {
          "output_type": "execute_result",
          "data": {
            "text/plain": [
              "array([[79, 98, 49, 11, 65],\n",
              "       [12, 82, 80, 39, 70],\n",
              "       [23, 96, 33, 71, 14],\n",
              "       [55, 19, 77, 21, 74],\n",
              "       [60, 47, 52, 95, 15]])"
            ]
          },
          "metadata": {
            "tags": []
          },
          "execution_count": 12
        }
      ]
    },
    {
      "cell_type": "code",
      "metadata": {
        "colab": {
          "base_uri": "https://localhost:8080/"
        },
        "id": "wB7CqkxrIJ44",
        "outputId": "aea0b82a-aa1e-447e-ec0f-56942d6eccd3"
      },
      "source": [
        "arr_rand[2,3]"
      ],
      "execution_count": 16,
      "outputs": [
        {
          "output_type": "execute_result",
          "data": {
            "text/plain": [
              "71"
            ]
          },
          "metadata": {
            "tags": []
          },
          "execution_count": 16
        }
      ]
    },
    {
      "cell_type": "code",
      "metadata": {
        "colab": {
          "base_uri": "https://localhost:8080/"
        },
        "id": "C2GrmR9PIN6Q",
        "outputId": "82c9749d-7a8f-412a-b128-61802855bbe1"
      },
      "source": [
        "arr_rand.shape"
      ],
      "execution_count": 17,
      "outputs": [
        {
          "output_type": "execute_result",
          "data": {
            "text/plain": [
              "(5, 5)"
            ]
          },
          "metadata": {
            "tags": []
          },
          "execution_count": 17
        }
      ]
    },
    {
      "cell_type": "code",
      "metadata": {
        "colab": {
          "base_uri": "https://localhost:8080/"
        },
        "id": "q-4aux8YIiyM",
        "outputId": "4dfede3c-12da-454c-9719-fd675fcbd349"
      },
      "source": [
        "# arr[  rows  , cols  ]\n",
        "# arr[ strt_row_idx : end_row_idx +1   , start_col_idx : end_col_idx + 1 ]\n",
        "\n",
        "arr_rand[1:4, 1:3]"
      ],
      "execution_count": 18,
      "outputs": [
        {
          "output_type": "execute_result",
          "data": {
            "text/plain": [
              "array([[82, 80],\n",
              "       [96, 33],\n",
              "       [19, 77]])"
            ]
          },
          "metadata": {
            "tags": []
          },
          "execution_count": 18
        }
      ]
    },
    {
      "cell_type": "code",
      "metadata": {
        "colab": {
          "base_uri": "https://localhost:8080/"
        },
        "id": "ghc2Al0TJCvr",
        "outputId": "a305bf6a-8839-45d7-f955-1209974eda74"
      },
      "source": [
        "arr_rand[1:4, :]"
      ],
      "execution_count": 21,
      "outputs": [
        {
          "output_type": "execute_result",
          "data": {
            "text/plain": [
              "array([[12, 82, 80, 39, 70],\n",
              "       [23, 96, 33, 71, 14],\n",
              "       [55, 19, 77, 21, 74]])"
            ]
          },
          "metadata": {
            "tags": []
          },
          "execution_count": 21
        }
      ]
    },
    {
      "cell_type": "code",
      "metadata": {
        "colab": {
          "base_uri": "https://localhost:8080/"
        },
        "id": "jvjvdR5MJUfd",
        "outputId": "f76a6e89-62fd-4efd-e36a-16c71ae94e4e"
      },
      "source": [
        "ar + 10"
      ],
      "execution_count": 23,
      "outputs": [
        {
          "output_type": "execute_result",
          "data": {
            "text/plain": [
              "array([11, 12, 13, 14, 15])"
            ]
          },
          "metadata": {
            "tags": []
          },
          "execution_count": 23
        }
      ]
    },
    {
      "cell_type": "code",
      "metadata": {
        "colab": {
          "base_uri": "https://localhost:8080/",
          "height": 165
        },
        "id": "ibIR0q0RJr_L",
        "outputId": "eec05383-1e0c-43e5-9fb3-e508a38288a6"
      },
      "source": [
        "[1,2,3,4,5] + 10"
      ],
      "execution_count": 24,
      "outputs": [
        {
          "output_type": "error",
          "ename": "TypeError",
          "evalue": "ignored",
          "traceback": [
            "\u001b[0;31m---------------------------------------------------------------------------\u001b[0m",
            "\u001b[0;31mTypeError\u001b[0m                                 Traceback (most recent call last)",
            "\u001b[0;32m<ipython-input-24-93a2581987ac>\u001b[0m in \u001b[0;36m<module>\u001b[0;34m()\u001b[0m\n\u001b[0;32m----> 1\u001b[0;31m \u001b[0;34m[\u001b[0m\u001b[0;36m1\u001b[0m\u001b[0;34m,\u001b[0m\u001b[0;36m2\u001b[0m\u001b[0;34m,\u001b[0m\u001b[0;36m3\u001b[0m\u001b[0;34m,\u001b[0m\u001b[0;36m4\u001b[0m\u001b[0;34m,\u001b[0m\u001b[0;36m5\u001b[0m\u001b[0;34m]\u001b[0m \u001b[0;34m+\u001b[0m \u001b[0;36m10\u001b[0m\u001b[0;34m\u001b[0m\u001b[0;34m\u001b[0m\u001b[0m\n\u001b[0m",
            "\u001b[0;31mTypeError\u001b[0m: can only concatenate list (not \"int\") to list"
          ]
        }
      ]
    },
    {
      "cell_type": "code",
      "metadata": {
        "colab": {
          "base_uri": "https://localhost:8080/"
        },
        "id": "WozEq9-3KKKI",
        "outputId": "83240695-1e90-4749-dfb3-cebf661797e6"
      },
      "source": [
        "arr_rand"
      ],
      "execution_count": 25,
      "outputs": [
        {
          "output_type": "execute_result",
          "data": {
            "text/plain": [
              "array([[79, 98, 49, 11, 65],\n",
              "       [12, 82, 80, 39, 70],\n",
              "       [23, 96, 33, 71, 14],\n",
              "       [55, 19, 77, 21, 74],\n",
              "       [60, 47, 52, 95, 15]])"
            ]
          },
          "metadata": {
            "tags": []
          },
          "execution_count": 25
        }
      ]
    },
    {
      "cell_type": "code",
      "metadata": {
        "id": "xVeZmrfYKR-d"
      },
      "source": [
        "arr_rand_2 = np.random.randint(10, 100, size= (5,2) )"
      ],
      "execution_count": 26,
      "outputs": []
    },
    {
      "cell_type": "code",
      "metadata": {
        "colab": {
          "base_uri": "https://localhost:8080/"
        },
        "id": "r-ke646kKXBp",
        "outputId": "4b1fb131-4279-4e34-9739-72f02ba8b3ad"
      },
      "source": [
        "arr_rand_2"
      ],
      "execution_count": 27,
      "outputs": [
        {
          "output_type": "execute_result",
          "data": {
            "text/plain": [
              "array([[60, 44],\n",
              "       [59, 25],\n",
              "       [11, 58],\n",
              "       [57, 18],\n",
              "       [60, 20]])"
            ]
          },
          "metadata": {
            "tags": []
          },
          "execution_count": 27
        }
      ]
    },
    {
      "cell_type": "code",
      "metadata": {
        "colab": {
          "base_uri": "https://localhost:8080/"
        },
        "id": "xGlx41uWKX7-",
        "outputId": "04dd599a-b117-45ed-e700-f691daaf1985"
      },
      "source": [
        "np.dot(arr_rand, arr_rand_2)"
      ],
      "execution_count": 28,
      "outputs": [
        {
          "output_type": "execute_result",
          "data": {
            "text/plain": [
              "array([[15588, 10266],\n",
              "       [12861,  9320],\n",
              "       [12294,  6884],\n",
              "       [10905,  9219],\n",
              "       [13260,  8841]])"
            ]
          },
          "metadata": {
            "tags": []
          },
          "execution_count": 28
        }
      ]
    },
    {
      "cell_type": "code",
      "metadata": {
        "colab": {
          "base_uri": "https://localhost:8080/"
        },
        "id": "gzdDGmutKvgv",
        "outputId": "137de3cf-9ab9-4ebd-9b9c-7c807077df0d"
      },
      "source": [
        "np.max(arr_rand)"
      ],
      "execution_count": 29,
      "outputs": [
        {
          "output_type": "execute_result",
          "data": {
            "text/plain": [
              "98"
            ]
          },
          "metadata": {
            "tags": []
          },
          "execution_count": 29
        }
      ]
    },
    {
      "cell_type": "code",
      "metadata": {
        "colab": {
          "base_uri": "https://localhost:8080/"
        },
        "id": "gv4AcjnSK20N",
        "outputId": "85ef2b63-382e-4d41-f3d1-e11514b4bf76"
      },
      "source": [
        "np.sum(arr_rand)"
      ],
      "execution_count": 30,
      "outputs": [
        {
          "output_type": "execute_result",
          "data": {
            "text/plain": [
              "1337"
            ]
          },
          "metadata": {
            "tags": []
          },
          "execution_count": 30
        }
      ]
    },
    {
      "cell_type": "code",
      "metadata": {
        "colab": {
          "base_uri": "https://localhost:8080/"
        },
        "id": "vY3cLQN7K6Eh",
        "outputId": "3c649275-4748-4906-8001-32d80a168eba"
      },
      "source": [
        "np.transpose(arr_rand)"
      ],
      "execution_count": 31,
      "outputs": [
        {
          "output_type": "execute_result",
          "data": {
            "text/plain": [
              "array([[79, 12, 23, 55, 60],\n",
              "       [98, 82, 96, 19, 47],\n",
              "       [49, 80, 33, 77, 52],\n",
              "       [11, 39, 71, 21, 95],\n",
              "       [65, 70, 14, 74, 15]])"
            ]
          },
          "metadata": {
            "tags": []
          },
          "execution_count": 31
        }
      ]
    },
    {
      "cell_type": "code",
      "metadata": {
        "id": "gL9eWH4WK9-n"
      },
      "source": [
        "def distance(v1,v2):\n",
        "    return np.sqrt(np.sum(np.square(v1-v2)))"
      ],
      "execution_count": 39,
      "outputs": []
    },
    {
      "cell_type": "code",
      "metadata": {
        "id": "ycwh0sqfdUa_"
      },
      "source": [
        "a = np.array([1,2, 4])\n",
        "b = np.array([5,5, -1])"
      ],
      "execution_count": 44,
      "outputs": []
    },
    {
      "cell_type": "code",
      "metadata": {
        "colab": {
          "base_uri": "https://localhost:8080/"
        },
        "id": "slUs6jh_dqG2",
        "outputId": "dbdbe891-764b-4581-fdde-3b9c9d7730b0"
      },
      "source": [
        "a"
      ],
      "execution_count": 45,
      "outputs": [
        {
          "output_type": "execute_result",
          "data": {
            "text/plain": [
              "array([1, 2, 4])"
            ]
          },
          "metadata": {
            "tags": []
          },
          "execution_count": 45
        }
      ]
    },
    {
      "cell_type": "code",
      "metadata": {
        "colab": {
          "base_uri": "https://localhost:8080/"
        },
        "id": "7zRMSnpmdqfY",
        "outputId": "e419f6cf-5f07-411a-eb61-5928794d3311"
      },
      "source": [
        "b"
      ],
      "execution_count": 46,
      "outputs": [
        {
          "output_type": "execute_result",
          "data": {
            "text/plain": [
              "array([ 5,  5, -1])"
            ]
          },
          "metadata": {
            "tags": []
          },
          "execution_count": 46
        }
      ]
    },
    {
      "cell_type": "code",
      "metadata": {
        "colab": {
          "base_uri": "https://localhost:8080/"
        },
        "id": "7QAYM6Kxdqp5",
        "outputId": "09e32ed4-9a64-4021-c489-87e1923ffd72"
      },
      "source": [
        "distance(a,b)"
      ],
      "execution_count": 47,
      "outputs": [
        {
          "output_type": "execute_result",
          "data": {
            "text/plain": [
              "7.0710678118654755"
            ]
          },
          "metadata": {
            "tags": []
          },
          "execution_count": 47
        }
      ]
    },
    {
      "cell_type": "code",
      "metadata": {
        "id": "Rsj73jYXdv18"
      },
      "source": [
        ""
      ],
      "execution_count": null,
      "outputs": []
    },
    {
      "cell_type": "markdown",
      "metadata": {
        "id": "r1OB4AAtfRue"
      },
      "source": [
        "# Matplotlib"
      ]
    },
    {
      "cell_type": "code",
      "metadata": {
        "id": "289cjSVjfUFP"
      },
      "source": [
        "import matplotlib.pyplot as plt"
      ],
      "execution_count": 48,
      "outputs": []
    },
    {
      "cell_type": "code",
      "metadata": {
        "id": "UsBbcl1ffZWA"
      },
      "source": [
        "a = np.array([1,2,3,4,5, 6,7,8,9,10])"
      ],
      "execution_count": 63,
      "outputs": []
    },
    {
      "cell_type": "code",
      "metadata": {
        "id": "a8Ru_zGRfeuY"
      },
      "source": [
        "b = np.square(a)"
      ],
      "execution_count": 64,
      "outputs": []
    },
    {
      "cell_type": "code",
      "metadata": {
        "colab": {
          "base_uri": "https://localhost:8080/"
        },
        "id": "ppDti-iJfhJg",
        "outputId": "9529b6df-e9d1-400f-9a66-0b453532fd5b"
      },
      "source": [
        "print(a)\n",
        "print(b)"
      ],
      "execution_count": 65,
      "outputs": [
        {
          "output_type": "stream",
          "text": [
            "[ 1  2  3  4  5  6  7  8  9 10]\n",
            "[  1   4   9  16  25  36  49  64  81 100]\n"
          ],
          "name": "stdout"
        }
      ]
    },
    {
      "cell_type": "code",
      "metadata": {
        "colab": {
          "base_uri": "https://localhost:8080/",
          "height": 265
        },
        "id": "JC5U3kJKfmgL",
        "outputId": "f2996b57-73a0-4da4-d20f-307928d9d26e"
      },
      "source": [
        "plt.plot(a,2*a + 3, marker=\"*\", color='green')\n",
        "plt.plot(a, b, marker=\"o\")\n",
        "\n",
        "plt.show()"
      ],
      "execution_count": 66,
      "outputs": [
        {
          "output_type": "display_data",
          "data": {
            "image/png": "[encoded data removed]",
            "text/plain": [
              "<Figure size 432x288 with 1 Axes>"
            ]
          },
          "metadata": {
            "tags": [],
            "needs_background": "light"
          }
        }
      ]
    },
    {
      "cell_type": "code",
      "metadata": {
        "id": "1iIS3AAKfs2O"
      },
      "source": [
        "x = np.array([1,2,3,4,5])\n",
        "sales_in_2018 =  [4, 2, 7, 5,1]\n",
        "sales_in_2020 = [9, 1, 5, 3, 4]"
      ],
      "execution_count": 75,
      "outputs": []
    },
    {
      "cell_type": "code",
      "metadata": {
        "colab": {
          "base_uri": "https://localhost:8080/",
          "height": 282
        },
        "id": "hxNSg6Vtg0BM",
        "outputId": "ae862b76-7f5b-4f6c-a2ab-820bfc6eae47"
      },
      "source": [
        "\n",
        "plt.bar(x, sales_in_2018, width=0.3)\n",
        "plt.bar(x+0.3, sales_in_2020, width=0.3)"
      ],
      "execution_count": 78,
      "outputs": [
        {
          "output_type": "execute_result",
          "data": {
            "text/plain": [
              "<BarContainer object of 5 artists>"
            ]
          },
          "metadata": {
            "tags": []
          },
          "execution_count": 78
        },
        {
          "output_type": "display_data",
          "data": {
            "image/png": "[encoded data removed]",
            "text/plain": [
              "<Figure size 432x288 with 1 Axes>"
            ]
          },
          "metadata": {
            "tags": [],
            "needs_background": "light"
          }
        }
      ]
    },
    {
      "cell_type": "code",
      "metadata": {
        "id": "GxghafI6g8IF"
      },
      "source": [
        "plt.pie?"
      ],
      "execution_count": 79,
      "outputs": []
    },
    {
      "cell_type": "code",
      "metadata": {
        "id": "Bos33XnqhkWx"
      },
      "source": [
        "plt.hist"
      ],
      "execution_count": null,
      "outputs": []
    },
    {
      "cell_type": "code",
      "metadata": {
        "colab": {
          "base_uri": "https://localhost:8080/",
          "height": 265
        },
        "id": "p8RJyIrXhzFQ",
        "outputId": "9b112303-5092-4b1f-ee2d-5c02153710e1"
      },
      "source": [
        "plt.scatter(a,a, marker=\"*\", color='green')\n",
        "plt.scatter(a, b, marker=\"o\")\n",
        "\n",
        "plt.show()"
      ],
      "execution_count": 82,
      "outputs": [
        {
          "output_type": "display_data",
          "data": {
            "image/png": "[encoded data removed]",
            "text/plain": [
              "<Figure size 432x288 with 1 Axes>"
            ]
          },
          "metadata": {
            "tags": [],
            "needs_background": "light"
          }
        }
      ]
    },
    {
      "cell_type": "code",
      "metadata": {
        "id": "x9f7vzrSh72I"
      },
      "source": [
        "data = np.random.randn(100, 2)"
      ],
      "execution_count": 85,
      "outputs": []
    },
    {
      "cell_type": "code",
      "metadata": {
        "colab": {
          "base_uri": "https://localhost:8080/"
        },
        "id": "qvYY62WCifz_",
        "outputId": "3d96434b-590a-4cf9-851d-a146f92a2a58"
      },
      "source": [
        "data[0]"
      ],
      "execution_count": 86,
      "outputs": [
        {
          "output_type": "execute_result",
          "data": {
            "text/plain": [
              "array([ 0.90270274, -0.80902454])"
            ]
          },
          "metadata": {
            "tags": []
          },
          "execution_count": 86
        }
      ]
    },
    {
      "cell_type": "code",
      "metadata": {
        "id": "ZVWAMghCip7i"
      },
      "source": [
        "x_axis = data[:, 0]\n",
        "y_axis = data[:, 1]"
      ],
      "execution_count": 90,
      "outputs": []
    },
    {
      "cell_type": "code",
      "metadata": {
        "colab": {
          "base_uri": "https://localhost:8080/",
          "height": 282
        },
        "id": "1Qn76vuhiq9p",
        "outputId": "28d9b433-89cf-48cd-f20a-21a4cb814f2a"
      },
      "source": [
        "plt.scatter(x_axis, y_axis)"
      ],
      "execution_count": 91,
      "outputs": [
        {
          "output_type": "execute_result",
          "data": {
            "text/plain": [
              "<matplotlib.collections.PathCollection at 0x7f94384f1dd0>"
            ]
          },
          "metadata": {
            "tags": []
          },
          "execution_count": 91
        },
        {
          "output_type": "display_data",
          "data": {
            "image/png": "[encoded data removed]",
            "text/plain": [
              "<Figure size 432x288 with 1 Axes>"
            ]
          },
          "metadata": {
            "tags": [],
            "needs_background": "light"
          }
        }
      ]
    },
    {
      "cell_type": "code",
      "metadata": {
        "id": "dwKncPA4jJD4"
      },
      "source": [
        "img = plt.imread(\"/content/00000053.jpg\")"
      ],
      "execution_count": 93,
      "outputs": []
    },
    {
      "cell_type": "code",
      "metadata": {
        "colab": {
          "base_uri": "https://localhost:8080/"
        },
        "id": "1QpHX-hTl9VG",
        "outputId": "f6308fcd-afaa-4090-8007-3763885a8fa3"
      },
      "source": [
        "img.shape"
      ],
      "execution_count": 94,
      "outputs": [
        {
          "output_type": "execute_result",
          "data": {
            "text/plain": [
              "(1275, 1600, 3)"
            ]
          },
          "metadata": {
            "tags": []
          },
          "execution_count": 94
        }
      ]
    },
    {
      "cell_type": "code",
      "metadata": {
        "colab": {
          "base_uri": "https://localhost:8080/",
          "height": 286
        },
        "id": "aw6_38yXmJFt",
        "outputId": "484fc78c-0bb1-41c4-f67b-891ee5f5a8f9"
      },
      "source": [
        "plt.imshow(img)"
      ],
      "execution_count": 95,
      "outputs": [
        {
          "output_type": "execute_result",
          "data": {
            "text/plain": [
              "<matplotlib.image.AxesImage at 0x7f943803b810>"
            ]
          },
          "metadata": {
            "tags": []
          },
          "execution_count": 95
        },
        {
          "output_type": "display_data",
          "data": {
            "image/png": "[encoded data removed]",
            "text/plain": [
              "<Figure size 432x288 with 1 Axes>"
            ]
          },
          "metadata": {
            "tags": [],
            "needs_background": "light"
          }
        }
      ]
    },
    {
      "cell_type": "code",
      "metadata": {
        "id": "HBUwNhkqmPj5"
      },
      "source": [
        "img_face = img[ 400:1000, 300:1200, : ]"
      ],
      "execution_count": 97,
      "outputs": []
    },
    {
      "cell_type": "code",
      "metadata": {
        "colab": {
          "base_uri": "https://localhost:8080/"
        },
        "id": "MlAUxcjUmuvb",
        "outputId": "781b4581-2562-4221-8dbd-0af622936d98"
      },
      "source": [
        "img_face.shape"
      ],
      "execution_count": 98,
      "outputs": [
        {
          "output_type": "execute_result",
          "data": {
            "text/plain": [
              "(600, 900, 3)"
            ]
          },
          "metadata": {
            "tags": []
          },
          "execution_count": 98
        }
      ]
    },
    {
      "cell_type": "code",
      "metadata": {
        "colab": {
          "base_uri": "https://localhost:8080/",
          "height": 286
        },
        "id": "WhcPAGG3m0NN",
        "outputId": "bdbc70bb-def4-40c3-964e-c14c64cd7efc"
      },
      "source": [
        "plt.imshow(img_face)"
      ],
      "execution_count": 99,
      "outputs": [
        {
          "output_type": "execute_result",
          "data": {
            "text/plain": [
              "<matplotlib.image.AxesImage at 0x7f9437fceb50>"
            ]
          },
          "metadata": {
            "tags": []
          },
          "execution_count": 99
        },
        {
          "output_type": "display_data",
          "data": {
            "image/png": "[encoded data removed]",
            "text/plain": [
              "<Figure size 432x288 with 1 Axes>"
            ]
          },
          "metadata": {
            "tags": [],
            "needs_background": "light"
          }
        }
      ]
    },
    {
      "cell_type": "code",
      "metadata": {
        "id": "8r1x9MvIm28g"
      },
      "source": [
        "plt.imsave(\"face.jpg\", img_face)"
      ],
      "execution_count": 100,
      "outputs": []
    },
    {
      "cell_type": "code",
      "metadata": {
        "id": "jHTK40adne-w"
      },
      "source": [
        ""
      ],
      "execution_count": null,
      "outputs": []
    }
  ]
}